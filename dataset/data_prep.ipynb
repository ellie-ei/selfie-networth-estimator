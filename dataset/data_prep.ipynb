{
 "cells": [
  {
   "cell_type": "markdown",
   "id": "ed5e9c7e",
   "metadata": {},
   "source": [
    "### Data prepartion\n",
    "\n",
    "To prepare the training data follow these steps:\n",
    "\n",
    "- Download the [Kaggle Celebrity net worth dataset](https://www.kaggle.com/datasets/monkeybusiness7/2023-celebrity-net-worth?resource=download) in the current directory\n",
    "- Run this notebook to scrape one image per celebrity"
   ]
  },
  {
   "cell_type": "code",
   "execution_count": null,
   "id": "a6b60c79",
   "metadata": {},
   "outputs": [],
   "source": [
    "import pandas as pd\n",
    "\n",
    "# Load your CSV\n",
    "df = pd.read_csv(\"2023_celeb_net_worth.csv\", encoding=\"latin1\")\n",
    "\n",
    "# Keep only 'Celebrity' and 'Estimated Net Worth'\n",
    "df_clean = df[[\"Celebrity\", \"Estimated Net Worth\"]].dropna()\n",
    "\n",
    "# Optionally: remove duplicates, strip whitespace\n",
    "df_clean[\"Celebrity\"] = df_clean[\"Celebrity\"].str.strip()\n",
    "df_clean = df_clean.drop_duplicates()\n",
    "\n",
    "# Save cleaned file\n",
    "df_clean.to_csv(\"celebrity_names_networth.csv\", index=False)\n"
   ]
  },
  {
   "cell_type": "code",
   "execution_count": null,
   "id": "5f1fc0dc",
   "metadata": {},
   "outputs": [],
   "source": [
    "import pandas as pd\n",
    "from duckduckgo_search import DDGS\n",
    "import requests\n",
    "from pathlib import Path\n",
    "import time\n",
    "\n",
    "# Load cleaned dataset\n",
    "df = pd.read_csv(\"celebrity_names_networth.csv\")\n",
    "output_dir = Path(\"images\")\n",
    "output_dir.mkdir(exist_ok=True)\n",
    "\n",
    "def download_image(query, output_path):\n",
    "    try:\n",
    "        with DDGS() as ddgs:\n",
    "            results = ddgs.images(query, max_results=1)\n",
    "            for result in results:\n",
    "                url = result[\"image\"]\n",
    "                try:\n",
    "                    response = requests.get(url, timeout=10)\n",
    "                    if response.status_code == 200:\n",
    "                        with open(output_path, \"wb\") as f:\n",
    "                            f.write(response.content)\n",
    "                        return True\n",
    "                except Exception as e:\n",
    "                    print(f\"Failed to download from {url}: {e}\")\n",
    "    except Exception as e:\n",
    "        print(f\"Search failed for '{query}': {e}\")\n",
    "    return False\n",
    "\n",
    "for i, row in df.iterrows():\n",
    "    name = row[\"Celebrity\"]\n",
    "    filename = name.replace(\" \", \"_\") + \".jpg\"\n",
    "    out_path = output_dir / filename\n",
    "\n",
    "    if out_path.exists():\n",
    "        print(f\"✅ Skipping (already exists): {name}\")\n",
    "        continue\n",
    "\n",
    "    print(f\"🔍 Downloading: {name}\")\n",
    "    query = f\"{name} face photo\"\n",
    "    success = download_image(query, out_path)\n",
    "\n",
    "    if not success:\n",
    "        print(f\"❌ Failed to download: {name}\")\n",
    "\n",
    "    time.sleep(1.5)  # Delay to avoid rate limits\n"
   ]
  },
  {
   "cell_type": "code",
   "execution_count": null,
   "id": "18dd8664",
   "metadata": {},
   "outputs": [],
   "source": []
  }
 ],
 "metadata": {
  "kernelspec": {
   "display_name": "RAG",
   "language": "python",
   "name": "python3"
  },
  "language_info": {
   "codemirror_mode": {
    "name": "ipython",
    "version": 3
   },
   "file_extension": ".py",
   "mimetype": "text/x-python",
   "name": "python",
   "nbconvert_exporter": "python",
   "pygments_lexer": "ipython3",
   "version": "3.12.9"
  }
 },
 "nbformat": 4,
 "nbformat_minor": 5
}
