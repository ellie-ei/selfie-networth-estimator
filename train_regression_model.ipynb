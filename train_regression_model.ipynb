{
 "cells": [
  {
   "cell_type": "markdown",
   "id": "19ef5451",
   "metadata": {},
   "source": [
    "# Regression Model Comparison\n",
    "\n",
    "This project compares the performance of various regression models to predict a target variable (e.g., net worth) using image embeddings or other features. The models evaluated include:\n",
    "\n",
    "- Linear Regression\n",
    "- Ridge Regression\n",
    "- Lasso Regression\n",
    "- ElasticNet Regression\n",
    "- Polynomial Regression (degree=2)\n",
    "\n",
    "## Dataset\n",
    "\n",
    "Assumes feature matrix `X` and log-transformed target `y` are preloaded (e.g., from image-based features and net worth in M dollors USD).\n"
   ]
  },
  {
   "cell_type": "code",
   "execution_count": 120,
   "id": "e3391753",
   "metadata": {},
   "outputs": [],
   "source": [
    "from qdrant_client import QdrantClient\n",
    "import numpy as np\n",
    "import pandas as pd\n",
    "\n",
    "client = QdrantClient(host=\"localhost\", port=6333)\n",
    "COLLECTION_NAME = \"celebrity_faces\"\n",
    "\n",
    "# Retrieve all vectors and payloads\n",
    "scroll_result = client.scroll(\n",
    "    collection_name=COLLECTION_NAME,\n",
    "    with_payload=True,\n",
    "    with_vectors=True,\n",
    "    limit=1000  # adjust if you have more\n",
    ")\n",
    "\n",
    "vectors = []\n",
    "net_worths = []\n",
    "\n",
    "for point in scroll_result[0]:  # scroll_result = (points, next_page_offset)\n",
    "    vectors.append(point.vector)\n",
    "    net_worths.append(point.payload[\"net_worth\"])\n",
    "\n",
    "X = np.array(vectors)\n",
    "y = np.array(net_worths)\n"
   ]
  },
  {
   "cell_type": "code",
   "execution_count": 121,
   "id": "f6186787",
   "metadata": {},
   "outputs": [],
   "source": [
    "y = y / 1000000  # Convert net worth to millions\n",
    "y = np.log1p(y)  # Apply log1p transformation"
   ]
  },
  {
   "cell_type": "code",
   "execution_count": 122,
   "id": "ab8b37e6",
   "metadata": {},
   "outputs": [
    {
     "name": "stdout",
     "output_type": "stream",
     "text": [
      "Linear Regression: MAE = 47165.613, R² = -340.114\n",
      "Ridge: MAE = 3829.742, R² = -0.025\n",
      "Lasso: MAE = 3884.463, R² = -0.032\n",
      "ElasticNet: MAE = 3884.392, R² = -0.032\n",
      "Polynomial Regression (deg=2): MAE = 5219.524, R² = -0.381\n"
     ]
    }
   ],
   "source": [
    "import numpy as np\n",
    "from sklearn.model_selection import train_test_split\n",
    "from sklearn.linear_model import LinearRegression, Ridge, Lasso, ElasticNet\n",
    "from sklearn.preprocessing import PolynomialFeatures\n",
    "from sklearn.pipeline import make_pipeline\n",
    "from sklearn.metrics import mean_absolute_error, r2_score\n",
    "\n",
    "\n",
    "# Split data\n",
    "X_train, X_test, y_train, y_test = train_test_split(X, y, test_size=0.2, random_state=42)\n",
    "\n",
    "# Models to compare\n",
    "models = {\n",
    "    \"Linear Regression\": LinearRegression(),\n",
    "    \"Ridge\": Ridge(alpha=1.0),\n",
    "    \"Lasso\": Lasso(alpha=0.1),\n",
    "    \"ElasticNet\": ElasticNet(alpha=0.1, l1_ratio=0.5),\n",
    "    \"Polynomial Regression (deg=2)\": make_pipeline(PolynomialFeatures(degree=2), LinearRegression())\n",
    "}\n",
    "\n",
    "# Evaluate models\n",
    "for name, model in models.items():\n",
    "    model.fit(X_train, y_train)\n",
    "    y_pred = model.predict(X_test)\n",
    "\n",
    "    # Inverse transformation for evaluation\n",
    "    y_pred_lin = np.expm1(y_pred)  # Inverse of log1p\n",
    "    y_test_lin = np.expm1(y_test)  # Inverse of log1p\n",
    "\n",
    "    # Metrics\n",
    "    mae = mean_absolute_error(y_test_lin, y_pred_lin)\n",
    "    r2 = r2_score(y_test_lin, y_pred_lin)\n",
    "\n",
    "    print(f\"{name}: MAE = {mae:.3f}, R² = {r2:.3f}\")\n"
   ]
  },
  {
   "cell_type": "markdown",
   "id": "86e7861c",
   "metadata": {},
   "source": [
    "Among all models tested, **Ridge Regression** provided the best performance based on MAE and R² metrics after inverse log transformation, and that was selected as the best model."
   ]
  },
  {
   "cell_type": "code",
   "execution_count": 123,
   "id": "2b4d139f",
   "metadata": {},
   "outputs": [
    {
     "data": {
      "text/plain": [
       "['app/networth_regressor.pkl']"
      ]
     },
     "execution_count": 123,
     "metadata": {},
     "output_type": "execute_result"
    }
   ],
   "source": [
    "import joblib\n",
    "\n",
    "model = Ridge(alpha=1.0)\n",
    "model.fit(X_train, y_train)\n",
    "\n",
    "joblib.dump(model, \"app/networth_regressor.pkl\")"
   ]
  },
  {
   "cell_type": "code",
   "execution_count": null,
   "id": "40ea98a1",
   "metadata": {},
   "outputs": [],
   "source": []
  }
 ],
 "metadata": {
  "kernelspec": {
   "display_name": "networth-env",
   "language": "python",
   "name": "python3"
  },
  "language_info": {
   "codemirror_mode": {
    "name": "ipython",
    "version": 3
   },
   "file_extension": ".py",
   "mimetype": "text/x-python",
   "name": "python",
   "nbconvert_exporter": "python",
   "pygments_lexer": "ipython3",
   "version": "3.12.9"
  }
 },
 "nbformat": 4,
 "nbformat_minor": 5
}
